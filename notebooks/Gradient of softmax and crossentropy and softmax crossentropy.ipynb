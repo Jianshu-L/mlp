{
 "cells": [
  {
   "cell_type": "code",
   "execution_count": 11,
   "metadata": {},
   "outputs": [],
   "source": [
    "import numpy as np\n",
    "a = np.random.random((20,10)) # batch_size, input_dim\n",
    "b = np.random.random((20,10))"
   ]
  },
  {
   "cell_type": "code",
   "execution_count": 7,
   "metadata": {},
   "outputs": [
    {
     "data": {
      "text/plain": [
       "(20, 1)"
      ]
     },
     "execution_count": 7,
     "metadata": {},
     "output_type": "execute_result"
    }
   ],
   "source": [
    "a.sum(1) == a.sum(-1)\n",
    "a.sum(-1)[:,None].shape"
   ]
  },
  {
   "cell_type": "code",
   "execution_count": 8,
   "metadata": {},
   "outputs": [],
   "source": [
    "class softmax(object):\n",
    "    \n",
    "    def __init__(self, inputs):\n",
    "        self.inputs = inputs\n",
    "    \n",
    "    def fprop(self):\n",
    "        return np.exp(self.inputs) / np.exp(self.inputs).sum(1, keepdims = True)"
   ]
  },
  {
   "cell_type": "code",
   "execution_count": 9,
   "metadata": {},
   "outputs": [
    {
     "name": "stdout",
     "output_type": "stream",
     "text": [
      "(20, 10)\n"
     ]
    }
   ],
   "source": [
    "print(softmax(a).fprop().shape)\n",
    "outputs = softmax(a).fprop()"
   ]
  },
  {
   "cell_type": "code",
   "execution_count": 17,
   "metadata": {},
   "outputs": [
    {
     "data": {
      "text/plain": [
       "(20, 1)"
      ]
     },
     "execution_count": 17,
     "metadata": {},
     "output_type": "execute_result"
    }
   ],
   "source": [
    "grads_softmax = outputs * ((b - b * outputs).sum(-1)[:, None])\n",
    "grads_softmax == outputs * (1 - outputs) * b.sum(-1)[:,None]\n",
    "((b - b * outputs).sum(-1)[:, None]).shape"
   ]
  },
  {
   "cell_type": "code",
   "execution_count": 23,
   "metadata": {},
   "outputs": [
    {
     "data": {
      "text/plain": [
       "array([[1, 1, 1],\n",
       "       [0, 0, 0]])"
      ]
     },
     "execution_count": 23,
     "metadata": {},
     "output_type": "execute_result"
    }
   ],
   "source": [
    "c = np.array([[1,2,3], [-1,-2,-3]])\n",
    "c.shape\n",
    "(c > 0) * 1 "
   ]
  },
  {
   "cell_type": "code",
   "execution_count": 1,
   "metadata": {},
   "outputs": [],
   "source": [
    "# what is the gradient of the softmax crossentropy function. \n",
    "class CrossEntropyError(object):\n",
    "    \n",
    "    def __call__(self, targets, outputs):\n",
    "        \n",
    "        return -np.mean(np.sum(targets * np.log(outputs), axis=1))\n",
    "    \n",
    "    def grad(self, outputs, targets):\n",
    "\n",
    "        return -(targets / outputs) / outputs.shape[0]\n",
    "\n",
    "    def __repr__(self):\n",
    "        \n",
    "        return 'CrossEntropyError'"
   ]
  },
  {
   "cell_type": "code",
   "execution_count": 2,
   "metadata": {},
   "outputs": [],
   "source": [
    "class CrossEntropySoftmaxError(object):\n",
    "    \"\"\"Multi-class cross entropy error with Softmax applied to outputs.\"\"\"\n",
    "\n",
    "    def __call__(self, outputs, targets):\n",
    "        # softmax function\n",
    "        probs = np.exp(outputs)\n",
    "        probs /= probs.sum(-1)[:, None]\n",
    "        # crossentropy\n",
    "        return -np.mean(np.sum(targets * np.log(probs), axis=1))\n",
    "\n",
    "    def grad(self, outputs, targets):\n",
    "        # softmax function\n",
    "        probs = np.exp(outputs)\n",
    "        probs /= probs.sum(-1)[:, None]\n",
    "        # grad_wrt_outputs\n",
    "        return (probs - targets) / outputs.shape[0]\n",
    "\n",
    "    def __repr__(self):\n",
    "        return 'CrossEntropySoftmaxError'"
   ]
  },
  {
   "cell_type": "code",
   "execution_count": null,
   "metadata": {},
   "outputs": [],
   "source": []
  }
 ],
 "metadata": {
  "kernelspec": {
   "display_name": "Python 3",
   "language": "python",
   "name": "python3"
  },
  "language_info": {
   "codemirror_mode": {
    "name": "ipython",
    "version": 3
   },
   "file_extension": ".py",
   "mimetype": "text/x-python",
   "name": "python",
   "nbconvert_exporter": "python",
   "pygments_lexer": "ipython3",
   "version": "3.6.6"
  }
 },
 "nbformat": 4,
 "nbformat_minor": 2
}
