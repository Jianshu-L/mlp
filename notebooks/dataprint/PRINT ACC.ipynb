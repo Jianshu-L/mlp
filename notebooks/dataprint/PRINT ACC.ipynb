{
 "cells": [
  {
   "cell_type": "code",
   "execution_count": 1,
   "metadata": {},
   "outputs": [
    {
     "name": "stderr",
     "output_type": "stream",
     "text": [
      "/afs/inf.ed.ac.uk/user/s17/s1773005/miniconda3/envs/mlp/lib/python3.6/importlib/_bootstrap.py:219: RuntimeWarning: compiletime version 3.5 of module 'tensorflow.python.framework.fast_tensor_util' does not match runtime version 3.6\n",
      "  return f(*args, **kwds)\n"
     ]
    }
   ],
   "source": [
    "import tensorflow as tf\n",
    "import numpy as np\n",
    "import matplotlib.pyplot as plt\n",
    "%matplotlib inline\n",
    "plt.style.use('ggplot')"
   ]
  },
  {
   "cell_type": "code",
   "execution_count": 36,
   "metadata": {},
   "outputs": [
    {
     "name": "stdout",
     "output_type": "stream",
     "text": [
      "[ 0.44016667  0.46266667  0.43883333  0.4555      0.45616667]\n",
      "[ 0.43233333  0.46816667  0.45383333  0.457       0.46266667]\n",
      "[ 0.439       0.45316666  0.45183333  0.457       0.45483333]\n",
      "[ 0.44583333  0.459       0.44766667  0.45716666  0.47083333]\n",
      "[ 0.47333333  0.45366667  0.45033333  0.4505      0.4575    ]\n",
      "[ 0.4585      0.45216667  0.44116667  0.46216667  0.44816667]\n",
      "[ 0.447       0.45316667  0.45316667  0.45333333  0.45683333]\n",
      "[ 0.465       0.46116666  0.45666667  0.4545      0.46116667]\n",
      "[ 0.4745      0.45766667  0.46        0.455       0.46816667]\n"
     ]
    }
   ],
   "source": [
    "a = np.load('Adam_2layers_100_L2.npy')\n",
    "print(a[3][-5:])\n",
    "a = np.load('Adam_2layers_200_L2.npy')\n",
    "print(a[3][-5:])\n",
    "a = np.load('Adam_2layers_300_L2.npy')\n",
    "print(a[3][-5:])\n",
    "a = np.load('Adam_3layers_100_L2.npy')\n",
    "print(a[3][-5:])\n",
    "a = np.load('Adam_3layers_200_L2_200.npy')\n",
    "print(a[3][-5:])\n",
    "a = np.load('Adam_3layers_300_L2_200.npy')\n",
    "print(a[3][-5:])\n",
    "a = np.load('Adam_4layers_100_L2.npy')\n",
    "print(a[3][-5:])\n",
    "a = np.load('Adam_4layers_200_L2_200.npy')\n",
    "print(a[3][-5:])\n",
    "a = np.load('Adam_4layers_300_L2_200.npy')\n",
    "print(a[3][-5:])"
   ]
  },
  {
   "cell_type": "code",
   "execution_count": 40,
   "metadata": {},
   "outputs": [
    {
     "name": "stdout",
     "output_type": "stream",
     "text": [
      "[ 0.43183333  0.457       0.45366667  0.45216667  0.46366667]\n",
      "[ 0.45033333  0.454       0.46216667  0.46033333  0.46283333]\n",
      "[ 0.44516667  0.4605      0.45766667  0.45616667  0.46133333]\n",
      "[ 0.449       0.4635      0.4445      0.4605      0.46433333]\n",
      "[ 0.45033333  0.45433333  0.46133333  0.44966667  0.45566667]\n",
      "[ 0.4545      0.462       0.4615      0.43766666  0.4655    ]\n",
      "[ 0.44783333  0.45566667  0.44833333  0.46183333  0.45733333]\n",
      "[ 0.46716667  0.44733333  0.4315      0.4465      0.44683333]\n",
      "[ 0.44516667  0.43816667  0.41216667  0.43116667  0.45083333]\n"
     ]
    }
   ],
   "source": [
    "a = np.load('Adam_2layers_100_L2_t.npy')\n",
    "print(a[3][-5:])\n",
    "a = np.load('Adam_2layers_200_L2_t.npy')\n",
    "print(a[3][-5:])\n",
    "a = np.load('Adam_2layers_300_L2_t.npy')\n",
    "print(a[3][-5:])\n",
    "a = np.load('Adam_3layers_100_L2_t.npy')\n",
    "print(a[3][-5:])\n",
    "a = np.load('Adam_3layers_200_L2_t_100.npy')\n",
    "print(a[3][-5:])\n",
    "a = np.load('Adam_3layers_300_L2_t_100.npy')\n",
    "print(a[3][-5:])\n",
    "a = np.load('Adam_4layers_100_L2_t.npy')\n",
    "print(a[3][-5:])\n",
    "a = np.load('Adam_4layers_200_L2_t_200.npy')\n",
    "print(a[3][-5:])\n",
    "a = np.load('Adam_4layers_300_L2_t_200.npy')\n",
    "print(a[3][-5:])"
   ]
  },
  {
   "cell_type": "code",
   "execution_count": 37,
   "metadata": {},
   "outputs": [
    {
     "name": "stdout",
     "output_type": "stream",
     "text": [
      "[ 0.4395      0.45533333  0.45583333  0.45716667  0.45683333]\n",
      "[ 0.44133333  0.46533333  0.44533333  0.4525      0.45466667]\n",
      "[ 0.4465      0.46083333  0.45683333  0.4525      0.46266667]\n",
      "[ 0.43533333  0.45983333  0.45433333  0.47333333  0.4685    ]\n",
      "[ 0.45466667  0.461       0.4615      0.452       0.456     ]\n",
      "[ 0.45916667  0.44733333  0.46666667  0.44516667  0.459     ]\n",
      "[ 0.44283333  0.46066667  0.45383333  0.46866666  0.46883333]\n",
      "[ 0.4675      0.454       0.44783333  0.4485      0.47      ]\n",
      "[ 0.465       0.4515      0.45733333  0.4605      0.4575    ]\n"
     ]
    }
   ],
   "source": [
    "a = np.load('Adam_2layers_100_L2_25.npy')\n",
    "print(a[3][-5:])\n",
    "a = np.load('Adam_2layers_200_L2_25.npy')\n",
    "print(a[3][-5:])\n",
    "a = np.load('Adam_2layers_300_L2_25.npy')\n",
    "print(a[3][-5:])\n",
    "a = np.load('Adam_3layers_100_L2_25.npy')\n",
    "print(a[3][-5:])\n",
    "a = np.load('Adam_3layers_200_L2_25_100.npy')\n",
    "print(a[3][-5:])\n",
    "a = np.load('Adam_3layers_300_L2_25_100.npy')\n",
    "print(a[3][-5:])\n",
    "a = np.load('Adam_4layers_100_L2_25.npy')\n",
    "print(a[3][-5:])\n",
    "a = np.load('Adam_4layers_200_L2_25_200.npy')\n",
    "print(a[3][-5:])\n",
    "a = np.load('Adam_4layers_300_L2_25_200.npy')\n",
    "print(a[3][-5:])"
   ]
  },
  {
   "cell_type": "code",
   "execution_count": 41,
   "metadata": {},
   "outputs": [
    {
     "name": "stdout",
     "output_type": "stream",
     "text": [
      "[ 0.448       0.46066667  0.45866666  0.46266666  0.45966667]\n",
      "[ 0.4495      0.46333333  0.4605      0.45633333  0.46366666]\n",
      "[ 0.43883333  0.452       0.44883333  0.45016667  0.46216666]\n",
      "[ 0.45016667  0.4505      0.45266667  0.453       0.46233333]\n",
      "[ 0.45316666  0.453       0.45516667  0.451       0.471     ]\n",
      "[ 0.45033333  0.45066667  0.46183333  0.4525      0.47166667]\n",
      "[ 0.44016667  0.4575      0.44516667  0.45883333  0.43983333]\n",
      "[ 0.45966667  0.44666666  0.416       0.44366666  0.4465    ]\n",
      "[ 0.461       0.44983333  0.41883333  0.45266667  0.448     ]\n"
     ]
    }
   ],
   "source": [
    "a = np.load('Adam_2layers_100_L2_25_t.npy')\n",
    "print(a[3][-5:])\n",
    "a = np.load('Adam_2layers_200_L2_25_t.npy')\n",
    "print(a[3][-5:])\n",
    "a = np.load('Adam_2layers_300_L2_25_t.npy')\n",
    "print(a[3][-5:])\n",
    "a = np.load('Adam_3layers_100_L2_25_t.npy')\n",
    "print(a[3][-5:])\n",
    "a = np.load('Adam_3layers_200_L2_25_t_100.npy')\n",
    "print(a[3][-5:])\n",
    "a = np.load('Adam_3layers_300_L2_25_t_100.npy')\n",
    "print(a[3][-5:])\n",
    "a = np.load('Adam_4layers_100_L2_25_t.npy')\n",
    "print(a[3][-5:])\n",
    "a = np.load('Adam_4layers_200_L2_25_t_200.npy')\n",
    "print(a[3][-5:])\n",
    "a = np.load('Adam_4layers_300_L2_25_t_200.npy')\n",
    "print(a[3][-5:])"
   ]
  },
  {
   "cell_type": "code",
   "execution_count": null,
   "metadata": {},
   "outputs": [],
   "source": []
  }
 ],
 "metadata": {
  "kernelspec": {
   "display_name": "Python 3",
   "language": "python",
   "name": "python3"
  },
  "language_info": {
   "codemirror_mode": {
    "name": "ipython",
    "version": 3
   },
   "file_extension": ".py",
   "mimetype": "text/x-python",
   "name": "python",
   "nbconvert_exporter": "python",
   "pygments_lexer": "ipython3",
   "version": "3.6.4"
  }
 },
 "nbformat": 4,
 "nbformat_minor": 2
}
