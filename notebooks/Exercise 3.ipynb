{
 "cells": [
  {
   "cell_type": "code",
   "execution_count": 1,
   "metadata": {},
   "outputs": [],
   "source": [
    "%matplotlib inline\n",
    "import numpy as np\n",
    "import matplotlib.pyplot as plt\n",
    "import mlp.data_providers as data_providers\n",
    "import os"
   ]
  },
  {
   "cell_type": "code",
   "execution_count": 2,
   "metadata": {},
   "outputs": [
    {
     "name": "stdout",
     "output_type": "stream",
     "text": [
      "(30924,)\n",
      "(30920, 5)\n",
      "(8,)\n",
      "(8,)\n",
      "(7, 8)\n",
      "(8, 8)\n",
      "[[ 1.4   2.1   2.5   0.1   0.  ]\n",
      " [ 2.1   2.5   0.1   0.    0.  ]\n",
      " [ 2.5   0.1   0.    0.    0.9 ]\n",
      " ...\n",
      " [15.5   7.68  2.36  1.65  1.05]\n",
      " [ 7.68  2.36  1.65  1.05  0.24]\n",
      " [ 2.36  1.65  1.05  0.24  3.94]] (30920, 5) (8, 8)\n"
     ]
    }
   ],
   "source": [
    "data_path = os.path.join(\n",
    "    os.environ['MLP_DATA_DIR'], 'HadSSP_daily_qc.txt')\n",
    "# load raw data from text file\n",
    "window_size = 5\n",
    "loaded = np.loadtxt(data_path, skiprows = 3, usecols = range(2,33))\n",
    "loaded = loaded[loaded != -99.99].flatten()\n",
    "print(loaded.shape)\n",
    "shape = (loaded.shape[-1] - window_size + 1, window_size)\n",
    "print(shape)\n",
    "print(loaded.strides)\n",
    "print((loaded.strides[-1], ))\n",
    "print((7,) + (8,))\n",
    "strides = loaded.strides + (loaded.strides[-1],)\n",
    "print(strides)\n",
    "windowed = np.lib.stride_tricks.as_strided(loaded, shape=shape, strides=strides)\n",
    "print(windowed, windowed.shape, windowed.strides)"
   ]
  },
  {
   "cell_type": "code",
   "execution_count": 3,
   "metadata": {},
   "outputs": [
    {
     "name": "stdout",
     "output_type": "stream",
     "text": [
      "(9,) (40, 8) (40, 8) (8, 8)\n",
      "[[0 1 2 3 4]\n",
      " [1 2 3 4 5]\n",
      " [2 3 4 5 6]\n",
      " [3 4 5 6 7]\n",
      " [4 5 6 7 8]]\n",
      "[[0 1 2 3 4]\n",
      " [1 2 3 4 5]\n",
      " [2 3 4 5 6]\n",
      " [3 4 5 6 7]\n",
      " [4 5 6 7 8]]\n",
      "[[ True  True  True  True  True]\n",
      " [ True  True  True  True  True]\n",
      " [ True  True  True  True  True]\n",
      " [ True  True  True  True  True]\n",
      " [ True  True  True  True  True]]\n"
     ]
    }
   ],
   "source": [
    "x = np.array([0, 1, 2, 3, 4, 5, 6, 7, 8])\n",
    "z = np.lib.stride_tricks.as_strided(x, shape = (5,5), strides = (8,8))\n",
    "y = np.array([[0, 1, 2, 3, 4],\n",
    "              [5, 6, 7, 8, 9]])\n",
    "w = np.array([[0, 1, 2, 3, 4], \n",
    "              [1, 2, 3, 4, 5],\n",
    "              [2, 3, 4, 5, 6],\n",
    "              [3, 4, 5, 6, 7],\n",
    "              [4, 5, 6, 7, 8]])\n",
    "print(x.shape, y.strides, w.strides, z.strides)\n",
    "print(w)\n",
    "print(z)\n",
    "print(w == z)"
   ]
  },
  {
   "cell_type": "code",
   "execution_count": 4,
   "metadata": {},
   "outputs": [],
   "source": [
    "from timeit import timeit\n",
    "# strides is faster for data pre-processing\n",
    "window_size = 5\n",
    "# load raw data from text file\n",
    "data_path = os.path.join(\n",
    "    os.environ['MLP_DATA_DIR'], 'HadSSP_daily_qc.txt')\n",
    "raw = np.loadtxt(data_path, skiprows = 3, usecols = range(2,33))\n",
    "# filter out all missing datapoints and flatten to a vector\n",
    "loaded = raw[raw != -99.99].flatten()\n",
    "# normalise data to zero mean, unit standard deviation\n",
    "loaded = (loaded - np.mean(loaded)) // np.std(loaded)\n",
    "# two methods to do data pre-processing\n",
    "\n",
    "def make_X1():\n",
    "    # Create array of zeros the same size as our final desired array\n",
    "    X1 = np.zeros([len(loaded) - window_size + 1, window_size])\n",
    "    for row in range(len(X1)):\n",
    "        X1[row,:] = loaded[row:row+window_size]\n",
    "    return X1\n",
    " \n",
    "def make_X2():\n",
    "    stride = loaded.strides + (loaded.strides[-1],)\n",
    "    shape = (loaded.shape[-1] - window_size + 1, window_size)\n",
    "    # Get a view of the prices with shape desired_shape, strides as defined, don't write to original array \n",
    "    X2 = np.lib.stride_tricks.as_strided(loaded, shape = shape, strides = stride, writeable=False)\n",
    "    return X2 \n",
    " \n",
    "# timeit(make_X1) # 56.7 seconds \n",
    "# timeit(make_X2) # 6.11 seconds, over 7x faster!"
   ]
  },
  {
   "cell_type": "code",
   "execution_count": 5,
   "metadata": {},
   "outputs": [
    {
     "name": "stdout",
     "output_type": "stream",
     "text": [
      "(30920, 5)\n"
     ]
    },
    {
     "data": {
      "text/plain": [
       "array([[-1., -1., -1., -1.],\n",
       "       [-1., -1., -1., -1.],\n",
       "       [-1., -1., -1., -1.],\n",
       "       ...,\n",
       "       [ 2.,  0., -1., -1.],\n",
       "       [ 0., -1., -1., -1.],\n",
       "       [-1., -1., -1., -1.]])"
      ]
     },
     "execution_count": 5,
     "metadata": {},
     "output_type": "execute_result"
    }
   ],
   "source": [
    "a = make_X1()\n",
    "print(a.shape)\n",
    "a[:,0:-1]"
   ]
  },
  {
   "cell_type": "code",
   "execution_count": 11,
   "metadata": {},
   "outputs": [
    {
     "name": "stdout",
     "output_type": "stream",
     "text": [
      "[[1.4 2.1 2.5 0.1 0.  0.  0.9 6.2 1.9]\n",
      " [2.1 2.5 0.1 0.  0.  0.9 6.2 1.9 4.9]\n",
      " [2.5 0.1 0.  0.  0.9 6.2 1.9 4.9 7.3]]\n",
      "[4.9 7.3 0.8]\n"
     ]
    }
   ],
   "source": [
    "window_size = 10\n",
    "batch_size = 3\n",
    "met_dp = data_providers.MetOfficeDataProvider(\n",
    "        window_size=window_size, batch_size=batch_size,\n",
    "        max_num_batches=1, shuffle_order=False)\n",
    "for inputs, targets in met_dp:\n",
    "    print(inputs)\n",
    "    a = np.c_[inputs, targets].T\n",
    "    b = [window_size - 1]*batch_size\n",
    "    print(targets)"
   ]
  },
  {
   "cell_type": "code",
   "execution_count": 12,
   "metadata": {},
   "outputs": [
    {
     "name": "stdout",
     "output_type": "stream",
     "text": [
      "[[1.4 2.1 2.5]\n",
      " [2.1 2.5 0.1]\n",
      " [2.5 0.1 0. ]\n",
      " [0.1 0.  0. ]\n",
      " [0.  0.  0.9]\n",
      " [0.  0.9 6.2]\n",
      " [0.9 6.2 1.9]\n",
      " [6.2 1.9 4.9]\n",
      " [1.9 4.9 7.3]\n",
      " [4.9 7.3 0.8]]\n",
      "[9, 9, 9]\n"
     ]
    }
   ],
   "source": [
    "print(a)\n",
    "print(b)"
   ]
  },
  {
   "cell_type": "code",
   "execution_count": 24,
   "metadata": {},
   "outputs": [
    {
     "name": "stdout",
     "output_type": "stream",
     "text": [
      "(1020, 30)\n",
      "(30331,)\n",
      "(30331,)\n",
      "[ True  True  True ...  True  True  True]\n"
     ]
    }
   ],
   "source": [
    "raw = np.loadtxt(data_path, skiprows = 3, usecols = range(2,32))\n",
    "loaded = raw[raw != -99.99].flatten()\n",
    "filtered = raw[raw >= 0].flatten()\n",
    "print(raw.shape)\n",
    "print(loaded.shape)\n",
    "print(filtered.shape)\n",
    "mean = np.mean(filtered)\n",
    "std = np.std(filtered)\n",
    "normalised = (filtered - mean) / std\n",
    "loaded = (loaded - np.mean(loaded)) / np.std(loaded)\n",
    "print(normalised == loaded)"
   ]
  },
  {
   "cell_type": "code",
   "execution_count": null,
   "metadata": {},
   "outputs": [],
   "source": []
  }
 ],
 "metadata": {
  "kernelspec": {
   "display_name": "Python 3",
   "language": "python",
   "name": "python3"
  },
  "language_info": {
   "codemirror_mode": {
    "name": "ipython",
    "version": 3
   },
   "file_extension": ".py",
   "mimetype": "text/x-python",
   "name": "python",
   "nbconvert_exporter": "python",
   "pygments_lexer": "ipython3",
   "version": "3.6.6"
  }
 },
 "nbformat": 4,
 "nbformat_minor": 2
}
