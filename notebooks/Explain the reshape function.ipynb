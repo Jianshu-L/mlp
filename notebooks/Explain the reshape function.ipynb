{
 "cells": [
  {
   "cell_type": "code",
   "execution_count": 92,
   "metadata": {},
   "outputs": [],
   "source": [
    "import numpy as np\n",
    "a = np.array([[range(100)], [range(100,200)], [range(200,300)], [range(300,400)]])\n",
    "# print(a)\n",
    "# print(a.shape)\n",
    "# print(a.reshape(20,20))"
   ]
  },
  {
   "cell_type": "code",
   "execution_count": 93,
   "metadata": {},
   "outputs": [],
   "source": [
    "b = a.reshape(4,10,10)\n",
    "# print(b)"
   ]
  },
  {
   "cell_type": "code",
   "execution_count": 99,
   "metadata": {},
   "outputs": [],
   "source": [
    "data = np.zeros((20,20))\n",
    "grid_size = int(4 ** 0.5)\n",
    "# % 求余数 // 求整数商\n",
    "for i ,j in enumerate(b):\n",
    "    r, c = i // 2, i % 2\n",
    "#     data[0,0] = b[0]\n",
    "#     data[0,1] = b[1]\n",
    "#     data[1,0] = b[2]\n",
    "#     data[1,1] = b[3]\n",
    "    data[r*10:(r+1)*10, c*10:(c+1)*10] = b[i]\n",
    "# print(data)"
   ]
  },
  {
   "cell_type": "code",
   "execution_count": 95,
   "metadata": {},
   "outputs": [
    {
     "name": "stdout",
     "output_type": "stream",
     "text": [
      "10 <class 'int'>\n",
      "20 <class 'int'>\n",
      "30 <class 'int'>\n",
      "40 <class 'int'>\n"
     ]
    }
   ],
   "source": [
    "# print(r, type(r))\n",
    "data = np.zeros((20,20))\n",
    "for i ,j in enumerate(b):\n",
    "    print((i+1)*10, type(i))\n",
    "i = 0\n",
    "# print(data[0:10, 0:10])\n",
    "# print(r, i)\n",
    "data[0:r, (i*10):((i+1)*10)] = b[0]\n",
    "# print(data)"
   ]
  },
  {
   "cell_type": "code",
   "execution_count": 96,
   "metadata": {},
   "outputs": [],
   "source": [
    "r = j.shape[0]\n",
    "i = 0\n",
    "# print(b[0].shape)\n",
    "data[0:10, 0:10] = b[0]\n",
    "# print(data)\n",
    "data = np.zeros((20,20))\n",
    "data[[list(range(10))], [list(range(10))]] = 1\n",
    "# print(data)\n",
    "# for i, j in enumerate(b):\n",
    "#     print(i,j)\n",
    "    \n",
    "# print(j.shape)"
   ]
  },
  {
   "cell_type": "code",
   "execution_count": 97,
   "metadata": {},
   "outputs": [
    {
     "data": {
      "text/plain": [
       "2"
      ]
     },
     "execution_count": 97,
     "metadata": {},
     "output_type": "execute_result"
    }
   ],
   "source": [
    "e = np.array([[1,2,3], [4,5,6]])\n",
    "# print(e.shape)\n",
    "e.shape[0]"
   ]
  },
  {
   "cell_type": "code",
   "execution_count": null,
   "metadata": {},
   "outputs": [],
   "source": []
  }
 ],
 "metadata": {
  "kernelspec": {
   "display_name": "Python 3",
   "language": "python",
   "name": "python3"
  },
  "language_info": {
   "codemirror_mode": {
    "name": "ipython",
    "version": 3
   },
   "file_extension": ".py",
   "mimetype": "text/x-python",
   "name": "python",
   "nbconvert_exporter": "python",
   "pygments_lexer": "ipython3",
   "version": "3.6.6"
  }
 },
 "nbformat": 4,
 "nbformat_minor": 2
}
