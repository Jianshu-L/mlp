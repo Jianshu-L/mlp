{
 "cells": [
  {
   "cell_type": "code",
   "execution_count": 1,
   "metadata": {},
   "outputs": [],
   "source": [
    "import numpy as np"
   ]
  },
  {
   "cell_type": "code",
   "execution_count": 13,
   "metadata": {},
   "outputs": [
    {
     "name": "stdout",
     "output_type": "stream",
     "text": [
      "[[1 1 1]\n",
      " [1 1 4]]\n",
      "9\n",
      "[2 2 5]\n",
      "[3 6]\n"
     ]
    }
   ],
   "source": [
    "# output dim is 3, 2 batch\n",
    "a = np.array([[1,2,3], [4,5,6]])\n",
    "b = np.array([[2,3,4], [5,6,8]])\n",
    "c = (a-b) ** 2\n",
    "print(c)\n",
    "print(np.sum(c)) # (-1)**2 * 5 + (-2)**2\n",
    "print(np.sum(c, 0))\n",
    "print(np.sum(c,1))"
   ]
  },
  {
   "cell_type": "code",
   "execution_count": null,
   "metadata": {},
   "outputs": [],
   "source": []
  }
 ],
 "metadata": {
  "kernelspec": {
   "display_name": "Python 3",
   "language": "python",
   "name": "python3"
  },
  "language_info": {
   "codemirror_mode": {
    "name": "ipython",
    "version": 3
   },
   "file_extension": ".py",
   "mimetype": "text/x-python",
   "name": "python",
   "nbconvert_exporter": "python",
   "pygments_lexer": "ipython3",
   "version": "3.6.6"
  }
 },
 "nbformat": 4,
 "nbformat_minor": 2
}
