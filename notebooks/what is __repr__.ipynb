{
 "cells": [
  {
   "cell_type": "code",
   "execution_count": 1,
   "metadata": {},
   "outputs": [],
   "source": [
    "import numpy as np\n",
    "class SumOfSquaredDiffsError(object):\n",
    "    \"\"\"Sum of squared differences (squared Euclidean distance) error.\"\"\"\n",
    "\n",
    "    def __call__(self, outputs, targets):\n",
    "        \"\"\"Calculates error function given a batch of outputs and targets.\n",
    "\n",
    "        Args:\n",
    "            outputs: Array of model outputs of shape (batch_size, output_dim).\n",
    "            targets: Array of target outputs of shape (batch_size, output_dim).\n",
    "\n",
    "        Returns:\n",
    "            Scalar error function value.\n",
    "        \"\"\"\n",
    "        return np.sum((outputs - targets) ** 2) / (2*outputs.shape[0])\n",
    "    \n",
    "    def grad(self, outputs, targets):\n",
    "        \"\"\"Calculates gradient of error function with respect to outputs.\n",
    "\n",
    "        Args:\n",
    "            outputs: Array of model outputs of shape (batch_size, output_dim).\n",
    "            targets: Array of target outputs of shape (batch_size, output_dim).\n",
    "\n",
    "        Returns:\n",
    "            Gradient of error function with respect to outputs. This should be\n",
    "            an array of shape (batch_size, output_dim).\n",
    "        \"\"\"\n",
    "        return (outputs - targets) / outputs.shape[0]\n",
    "\n",
    "    def __repr__(self):\n",
    "        return 'SumOfSquaredDiffsError'\n"
   ]
  },
  {
   "cell_type": "code",
   "execution_count": 2,
   "metadata": {},
   "outputs": [],
   "source": [
    "a = SumOfSquaredDiffsError()"
   ]
  },
  {
   "cell_type": "code",
   "execution_count": 3,
   "metadata": {},
   "outputs": [
    {
     "data": {
      "text/plain": [
       "0.5"
      ]
     },
     "execution_count": 3,
     "metadata": {},
     "output_type": "execute_result"
    }
   ],
   "source": [
    "a(np.array([10,15]), [11,16])\n",
    "(1+1)/4"
   ]
  },
  {
   "cell_type": "code",
   "execution_count": 4,
   "metadata": {},
   "outputs": [
    {
     "name": "stdout",
     "output_type": "stream",
     "text": [
      "SumOfSquaredDiffsError\n"
     ]
    }
   ],
   "source": [
    "print(a)"
   ]
  },
  {
   "cell_type": "code",
   "execution_count": 5,
   "metadata": {},
   "outputs": [],
   "source": [
    "class SumOfSquaredDiffsError(object):\n",
    "    \"\"\"Sum of squared differences (squared Euclidean distance) error.\"\"\"\n",
    "\n",
    "    def __call__(self, outputs, targets):\n",
    "        \"\"\"Calculates error function given a batch of outputs and targets.\n",
    "\n",
    "        Args:\n",
    "            outputs: Array of model outputs of shape (batch_size, output_dim).\n",
    "            targets: Array of target outputs of shape (batch_size, output_dim).\n",
    "\n",
    "        Returns:\n",
    "            Scalar error function value.\n",
    "        \"\"\"\n",
    "        return np.sum((outputs - targets) ** 2) / (2*outputs.shape[0])\n",
    "    \n",
    "    def grad(self, outputs, targets):\n",
    "        \"\"\"Calculates gradient of error function with respect to outputs.\n",
    "\n",
    "        Args:\n",
    "            outputs: Array of model outputs of shape (batch_size, output_dim).\n",
    "            targets: Array of target outputs of shape (batch_size, output_dim).\n",
    "\n",
    "        Returns:\n",
    "            Gradient of error function with respect to outputs. This should be\n",
    "            an array of shape (batch_size, output_dim).\n",
    "        \"\"\"\n",
    "        return (outputs - targets) / outputs.shape[0]\n",
    "\n",
    "#     def __repr__(self):\n",
    "#         return 'SumOfSquaredDiffsError'\n"
   ]
  },
  {
   "cell_type": "code",
   "execution_count": 6,
   "metadata": {},
   "outputs": [
    {
     "name": "stdout",
     "output_type": "stream",
     "text": [
      "<__main__.SumOfSquaredDiffsError object at 0x10a4833c8>\n"
     ]
    }
   ],
   "source": [
    "a = SumOfSquaredDiffsError()\n",
    "print(a)"
   ]
  },
  {
   "cell_type": "code",
   "execution_count": null,
   "metadata": {},
   "outputs": [],
   "source": []
  }
 ],
 "metadata": {
  "kernelspec": {
   "display_name": "Python 3",
   "language": "python",
   "name": "python3"
  },
  "language_info": {
   "codemirror_mode": {
    "name": "ipython",
    "version": 3
   },
   "file_extension": ".py",
   "mimetype": "text/x-python",
   "name": "python",
   "nbconvert_exporter": "python",
   "pygments_lexer": "ipython3",
   "version": "3.6.6"
  }
 },
 "nbformat": 4,
 "nbformat_minor": 2
}
