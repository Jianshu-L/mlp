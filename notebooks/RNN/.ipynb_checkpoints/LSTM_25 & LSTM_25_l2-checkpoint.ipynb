{
 "cells": [
  {
   "cell_type": "code",
   "execution_count": 2,
   "metadata": {},
   "outputs": [
    {
     "name": "stderr",
     "output_type": "stream",
     "text": [
      "/afs/inf.ed.ac.uk/user/s17/s1773005/miniconda3/envs/mlp/lib/python3.6/importlib/_bootstrap.py:219: RuntimeWarning: compiletime version 3.5 of module 'tensorflow.python.framework.fast_tensor_util' does not match runtime version 3.6\n",
      "  return f(*args, **kwds)\n"
     ]
    }
   ],
   "source": [
    "import tensorflow as tf\n",
    "import numpy as np\n",
    "import matplotlib.pyplot as plt\n",
    "from tensorflow.contrib import rnn\n",
    "%matplotlib inline\n",
    "plt.style.use('ggplot')\n",
    "inputs = tf.placeholder(tf.float32, [None, 120, 25], 'inputs')\n",
    "targets = tf.placeholder(tf.float32, [None, 10], 'targets')\n"
   ]
  },
  {
   "cell_type": "code",
   "execution_count": 3,
   "metadata": {},
   "outputs": [],
   "source": [
    "def get_error_and_accuracy(data):\n",
    "    \"\"\"Calculate average error and classification accuracy across a dataset.\n",
    "    \n",
    "    Args:\n",
    "        data: Data provider which iterates over input-target batches in dataset.\n",
    "        \n",
    "    Returns:\n",
    "        Tuple with first element scalar value corresponding to average error\n",
    "        across all batches in dataset and second value corresponding to\n",
    "        average classification accuracy across all batches in dataset.\n",
    "    \"\"\"\n",
    "    err = 0\n",
    "    acc = 0\n",
    "    for input_batch, target_batch in data:\n",
    "        err += sess.run(error, feed_dict={inputs: input_batch, targets: target_batch})\n",
    "        acc += sess.run(accuracy, feed_dict={inputs: input_batch, targets: target_batch})\n",
    "    err /= data.num_batches\n",
    "    acc /= data.num_batches\n",
    "    return err, acc"
   ]
  },
  {
   "cell_type": "code",
   "execution_count": 3,
   "metadata": {
    "scrolled": true
   },
   "outputs": [
    {
     "name": "stdout",
     "output_type": "stream",
     "text": [
      "End of epoch 1: running error average = 1.66 running acc average = 0.42\n",
      "End of epoch 2: running error average = 1.42 running acc average = 0.50\n",
      "End of epoch 3: running error average = 1.31 running acc average = 0.54\n",
      "End of epoch 4: running error average = 1.22 running acc average = 0.58\n",
      "End of epoch 5: running error average = 1.15 running acc average = 0.60\n",
      "End of epoch 6: running error average = 1.07 running acc average = 0.63\n",
      "End of epoch 7: running error average = 0.97 running acc average = 0.67\n",
      "End of epoch 8: running error average = 0.91 running acc average = 0.69\n",
      "End of epoch 9: running error average = 0.82 running acc average = 0.72\n",
      "End of epoch 10: running error average = 0.75 running acc average = 0.75\n",
      "End of epoch 11: running error average = 0.68 running acc average = 0.77\n",
      "End of epoch 12: running error average = 0.60 running acc average = 0.80\n",
      "End of epoch 13: running error average = 0.55 running acc average = 0.82\n",
      "End of epoch 14: running error average = 0.46 running acc average = 0.85\n",
      "End of epoch 15: running error average = 0.41 running acc average = 0.87\n",
      "End of epoch 16: running error average = 0.36 running acc average = 0.89\n",
      "End of epoch 17: running error average = 0.32 running acc average = 0.90\n",
      "End of epoch 18: running error average = 0.28 running acc average = 0.91\n",
      "End of epoch 19: running error average = 0.24 running acc average = 0.93\n",
      "End of epoch 20: running error average = 0.21 running acc average = 0.94\n",
      "End of epoch 21: running error average = 0.19 running acc average = 0.94\n",
      "End of epoch 22: running error average = 0.17 running acc average = 0.95\n",
      "End of epoch 23: running error average = 0.15 running acc average = 0.96\n",
      "End of epoch 24: running error average = 0.14 running acc average = 0.96\n",
      "End of epoch 25: running error average = 0.13 running acc average = 0.96\n",
      "End of epoch 26: running error average = 0.12 running acc average = 0.96\n",
      "End of epoch 27: running error average = 0.11 running acc average = 0.97\n",
      "End of epoch 28: running error average = 0.09 running acc average = 0.97\n",
      "End of epoch 29: running error average = 0.10 running acc average = 0.97\n",
      "End of epoch 30: running error average = 0.08 running acc average = 0.98\n",
      "End of epoch 31: running error average = 0.08 running acc average = 0.98\n",
      "End of epoch 32: running error average = 0.08 running acc average = 0.98\n",
      "End of epoch 33: running error average = 0.08 running acc average = 0.98\n",
      "End of epoch 34: running error average = 0.07 running acc average = 0.98\n",
      "End of epoch 35: running error average = 0.07 running acc average = 0.98\n",
      "End of epoch 36: running error average = 0.07 running acc average = 0.98\n",
      "End of epoch 37: running error average = 0.05 running acc average = 0.99\n",
      "End of epoch 38: running error average = 0.05 running acc average = 0.99\n",
      "End of epoch 39: running error average = 0.07 running acc average = 0.98\n",
      "End of epoch 40: running error average = 0.06 running acc average = 0.98\n",
      "End of epoch 41: running error average = 0.05 running acc average = 0.99\n",
      "End of epoch 42: running error average = 0.04 running acc average = 0.99\n",
      "End of epoch 43: running error average = 0.06 running acc average = 0.98\n",
      "End of epoch 44: running error average = 0.06 running acc average = 0.98\n",
      "End of epoch 45: running error average = 0.05 running acc average = 0.99\n",
      "End of epoch 46: running error average = 0.05 running acc average = 0.99\n",
      "End of epoch 47: running error average = 0.04 running acc average = 0.99\n",
      "End of epoch 48: running error average = 0.04 running acc average = 0.99\n",
      "End of epoch 49: running error average = 0.05 running acc average = 0.99\n",
      "End of epoch 50: running error average = 0.05 running acc average = 0.98\n"
     ]
    }
   ],
   "source": [
    "n_hidden_1 = 200\n",
    "time_steps = 120\n",
    "beta = 0.01 #0.009\n",
    "\n",
    "input = tf.unstack(inputs ,time_steps,1)\n",
    "\n",
    "weights = {\n",
    "    'h1': tf.Variable(tf.random_normal([25, n_hidden_1])),\n",
    "    'out': tf.Variable(tf.random_normal([n_hidden_1, 10]))\n",
    "}\n",
    "biases = {\n",
    "    'b1': tf.Variable(tf.random_normal([n_hidden_1])),\n",
    "    'out': tf.Variable(tf.random_normal([10]))\n",
    "}\n",
    "def LSTM_1layer_200(data):\n",
    "    lstm_layer = tf.nn.rnn_cell.LSTMCell(n_hidden_1,forget_bias=1.)\n",
    "    LSTM_layer,_=rnn.static_rnn(lstm_layer,data,dtype=\"float32\")\n",
    "    \n",
    "    out_layer = tf.matmul(LSTM_layer[-1], weights['out']) + biases['out']\n",
    "    return out_layer\n",
    "out_layer = LSTM_1layer_200(input)\n",
    "\n",
    "per_datapoint_errors = tf.nn.softmax_cross_entropy_with_logits(logits=out_layer, labels=targets)\n",
    "error = tf.reduce_mean(per_datapoint_errors)\n",
    "#regularizer = tf.nn.l2_loss(weights['h1'])+tf.nn.l2_loss(weights['out'])\n",
    "#error = tf.reduce_mean(error + beta * regularizer)\n",
    "\n",
    "per_datapoint_pred_is_correct = tf.equal(tf.argmax(out_layer, 1), tf.argmax(targets, 1))\n",
    "accuracy = tf.reduce_mean(tf.cast(per_datapoint_pred_is_correct, tf.float32))\n",
    "\n",
    "train_step = tf.train.AdamOptimizer(learning_rate=0.001).minimize(error)\n",
    "sess = tf.InteractiveSession()\n",
    "\n",
    "init_op = tf.global_variables_initializer()\n",
    "sess.run(init_op)\n",
    "\n",
    "import data_providers_rnn as data_providers_rnn\n",
    "train_data = data_providers_rnn.MSD10GenreDataProvider('train', batch_size=50, flatten=True, one_hot=True)\n",
    "valid_data = data_providers_rnn.MSD10GenreDataProvider('valid', batch_size=50, flatten=True, one_hot=True)\n",
    "\n",
    "num_epoch = 50\n",
    "error_train = []\n",
    "error_valid = []\n",
    "acc_train = []\n",
    "acc_valid = []\n",
    "\n",
    "for e in range(num_epoch):\n",
    "    running_error = 0.\n",
    "    running_acc = 0.\n",
    "    for input_batch, target_batch in train_data:\n",
    "        _, batch_error, batch_acc = sess.run(\n",
    "            [train_step, error, accuracy], \n",
    "            feed_dict={inputs: input_batch, targets: target_batch})\n",
    "        running_error += batch_error\n",
    "        running_acc += batch_acc\n",
    "    running_error /= train_data.num_batches\n",
    "    running_acc /= train_data.num_batches\n",
    "    print('End of epoch {0}: running error average = {1:.2f}'.format(e + 1, running_error), \n",
    "          'running acc average = {1:.2f}'.format(e + 1, running_acc))\n",
    "    error_train = np.append(error_train, running_error)\n",
    "    acc_train = np.append(acc_train, running_acc)\n",
    "    a = get_error_and_accuracy(valid_data)\n",
    "    error_valid = np.append(error_valid, a[0])\n",
    "    acc_valid = np.append(acc_valid, a[1])\n",
    "    \n",
    "LSTM_1layers_200 = [error_train, acc_train, error_valid, acc_valid]"
   ]
  },
  {
   "cell_type": "code",
   "execution_count": 4,
   "metadata": {},
   "outputs": [],
   "source": [
    "np.save('LSTM_1layers_200', LSTM_1layers_200)"
   ]
  },
  {
   "cell_type": "code",
   "execution_count": 5,
   "metadata": {},
   "outputs": [
    {
     "data": {
      "image/png": "[encoded data removed]",
      "text/plain": [
       "<matplotlib.figure.Figure at 0x7faba9605668>"
      ]
     },
     "metadata": {},
     "output_type": "display_data"
    }
   ],
   "source": [
    "data = LSTM_1layers_200\n",
    "\n",
    "fig_1 = plt.figure(figsize=(10,6))\n",
    "ax_1 = fig_1.add_subplot(111)\n",
    "ax_1.plot(np.arange(data[0].shape[0]), data[0], label = 'train')\n",
    "ax_1.plot(np.arange(data[2].shape[0]), data[2], label = 'valid')\n",
    "ax_1.legend(loc=0)\n",
    "ax_1.set_xlabel('Epoch number',fontsize = 12, fontweight = 1000)\n",
    "ax_1.set_ylabel('Error', fontsize = 12, fontweight = 1000)\n",
    "ax_1.set_title('LSTM_1layers_200(error)', fontsize = 14)\n",
    "plt.tight_layout()\n",
    "fig_1.savefig('LSTM_1layers_200(error).pdf')"
   ]
  },
  {
   "cell_type": "code",
   "execution_count": 6,
   "metadata": {},
   "outputs": [
    {
     "data": {
      "image/png": "[encoded data removed]",
      "text/plain": [
       "<matplotlib.figure.Figure at 0x7faba00f8278>"
      ]
     },
     "metadata": {},
     "output_type": "display_data"
    }
   ],
   "source": [
    "data = LSTM_1layers_200\n",
    "\n",
    "fig_1 = plt.figure(figsize=(10,6))\n",
    "ax_1 = fig_1.add_subplot(111)\n",
    "ax_1.plot(np.arange(data[1].shape[0]), data[1], label = 'train')\n",
    "ax_1.plot(np.arange(data[3].shape[0]), data[3], label = 'valid')\n",
    "ax_1.legend(loc=0)\n",
    "ax_1.set_xlabel('Epoch number',fontsize = 12, fontweight = 1000)\n",
    "ax_1.set_ylabel('ACC', fontsize = 12, fontweight = 1000)\n",
    "ax_1.set_title('LSTM_1layers_200(acc)', fontsize = 14)\n",
    "plt.tight_layout()\n",
    "fig_1.savefig('LSTM_1layers_200(acc).pdf')"
   ]
  },
  {
   "cell_type": "code",
   "execution_count": null,
   "metadata": {
    "scrolled": true
   },
   "outputs": [
    {
     "name": "stdout",
     "output_type": "stream",
     "text": [
      "End of epoch 1: running error average = 8.39 running acc average = 0.43\n",
      "End of epoch 2: running error average = 4.06 running acc average = 0.50\n",
      "End of epoch 3: running error average = 2.37 running acc average = 0.53\n",
      "End of epoch 4: running error average = 1.69 running acc average = 0.56\n",
      "End of epoch 5: running error average = 1.44 running acc average = 0.57\n",
      "End of epoch 6: running error average = 1.30 running acc average = 0.59\n",
      "End of epoch 7: running error average = 1.21 running acc average = 0.62\n",
      "End of epoch 8: running error average = 1.17 running acc average = 0.63\n",
      "End of epoch 9: running error average = 1.10 running acc average = 0.65\n",
      "End of epoch 10: running error average = 1.06 running acc average = 0.67\n",
      "End of epoch 11: running error average = 1.04 running acc average = 0.67\n",
      "End of epoch 12: running error average = 0.98 running acc average = 0.70\n",
      "End of epoch 13: running error average = 0.95 running acc average = 0.71\n",
      "End of epoch 14: running error average = 0.91 running acc average = 0.72\n",
      "End of epoch 15: running error average = 0.88 running acc average = 0.73\n",
      "End of epoch 16: running error average = 0.86 running acc average = 0.74\n",
      "End of epoch 17: running error average = 0.84 running acc average = 0.75\n",
      "End of epoch 18: running error average = 0.80 running acc average = 0.76\n",
      "End of epoch 19: running error average = 0.77 running acc average = 0.78\n",
      "End of epoch 20: running error average = 0.75 running acc average = 0.78\n",
      "End of epoch 21: running error average = 0.73 running acc average = 0.79\n",
      "End of epoch 22: running error average = 0.71 running acc average = 0.80\n",
      "End of epoch 23: running error average = 0.68 running acc average = 0.81\n",
      "End of epoch 24: running error average = 0.68 running acc average = 0.81\n",
      "End of epoch 25: running error average = 0.64 running acc average = 0.83\n",
      "End of epoch 26: running error average = 0.62 running acc average = 0.83\n",
      "End of epoch 27: running error average = 0.62 running acc average = 0.83\n",
      "End of epoch 28: running error average = 0.59 running acc average = 0.85\n",
      "End of epoch 29: running error average = 0.60 running acc average = 0.84\n",
      "End of epoch 30: running error average = 0.63 running acc average = 0.83\n",
      "End of epoch 31: running error average = 0.56 running acc average = 0.86\n",
      "End of epoch 32: running error average = 0.54 running acc average = 0.86\n",
      "End of epoch 33: running error average = 0.54 running acc average = 0.86\n",
      "End of epoch 34: running error average = 0.53 running acc average = 0.86\n",
      "End of epoch 35: running error average = 0.52 running acc average = 0.87\n",
      "End of epoch 36: running error average = 0.50 running acc average = 0.88\n",
      "End of epoch 37: running error average = 0.49 running acc average = 0.88\n",
      "End of epoch 38: running error average = 0.51 running acc average = 0.87\n",
      "End of epoch 39: running error average = 0.48 running acc average = 0.88\n",
      "End of epoch 40: running error average = 0.50 running acc average = 0.88\n",
      "End of epoch 41: running error average = 0.46 running acc average = 0.89\n",
      "End of epoch 42: running error average = 0.46 running acc average = 0.89\n",
      "End of epoch 43: running error average = 0.50 running acc average = 0.88\n",
      "End of epoch 44: running error average = 0.47 running acc average = 0.89\n"
     ]
    }
   ],
   "source": [
    "n_hidden_1 = 200\n",
    "time_steps = 120\n",
    "beta = 0.01 #0.009\n",
    "\n",
    "input = tf.unstack(inputs ,time_steps,1)\n",
    "\n",
    "weights = {\n",
    "    'h1': tf.Variable(tf.random_normal([25, n_hidden_1])),\n",
    "    'out': tf.Variable(tf.random_normal([n_hidden_1, 10]))\n",
    "}\n",
    "biases = {\n",
    "    'b1': tf.Variable(tf.random_normal([n_hidden_1])),\n",
    "    'out': tf.Variable(tf.random_normal([10]))\n",
    "}\n",
    "def LSTM_1layer_200(data):\n",
    "    lstm_layer = tf.nn.rnn_cell.LSTMCell(n_hidden_1,forget_bias=1.)\n",
    "    LSTM_layer,_=rnn.static_rnn(lstm_layer,data,dtype=\"float32\")\n",
    "    \n",
    "    out_layer = tf.matmul(LSTM_layer[-1], weights['out']) + biases['out']\n",
    "    return out_layer\n",
    "out_layer = LSTM_1layer_200(input)\n",
    "\n",
    "per_datapoint_errors = tf.nn.softmax_cross_entropy_with_logits(logits=out_layer, labels=targets)\n",
    "error = tf.reduce_mean(per_datapoint_errors)\n",
    "regularizer = tf.nn.l2_loss(weights['out'])\n",
    "error = tf.reduce_mean(error + beta * regularizer)\n",
    "\n",
    "per_datapoint_pred_is_correct = tf.equal(tf.argmax(out_layer, 1), tf.argmax(targets, 1))\n",
    "accuracy = tf.reduce_mean(tf.cast(per_datapoint_pred_is_correct, tf.float32))\n",
    "\n",
    "train_step = tf.train.AdamOptimizer(learning_rate=0.001).minimize(error)\n",
    "sess = tf.InteractiveSession()\n",
    "\n",
    "init_op = tf.global_variables_initializer()\n",
    "sess.run(init_op)\n",
    "\n",
    "import data_providers_rnn as data_providers_rnn\n",
    "train_data = data_providers_rnn.MSD10GenreDataProvider('train', batch_size=50, flatten=True, one_hot=True)\n",
    "valid_data = data_providers_rnn.MSD10GenreDataProvider('valid', batch_size=50, flatten=True, one_hot=True)\n",
    "\n",
    "num_epoch = 50\n",
    "error_train = []\n",
    "error_valid = []\n",
    "acc_train = []\n",
    "acc_valid = []\n",
    "\n",
    "for e in range(num_epoch):\n",
    "    running_error = 0.\n",
    "    running_acc = 0.\n",
    "    for input_batch, target_batch in train_data:\n",
    "        _, batch_error, batch_acc = sess.run(\n",
    "            [train_step, error, accuracy], \n",
    "            feed_dict={inputs: input_batch, targets: target_batch})\n",
    "        running_error += batch_error\n",
    "        running_acc += batch_acc\n",
    "    running_error /= train_data.num_batches\n",
    "    running_acc /= train_data.num_batches\n",
    "    print('End of epoch {0}: running error average = {1:.2f}'.format(e + 1, running_error), \n",
    "          'running acc average = {1:.2f}'.format(e + 1, running_acc))\n",
    "    error_train = np.append(error_train, running_error)\n",
    "    acc_train = np.append(acc_train, running_acc)\n",
    "    a = get_error_and_accuracy(valid_data)\n",
    "    error_valid = np.append(error_valid, a[0])\n",
    "    acc_valid = np.append(acc_valid, a[1])\n",
    "    \n",
    "LSTM_1layers_200_l2 = [error_train, acc_train, error_valid, acc_valid]"
   ]
  },
  {
   "cell_type": "code",
   "execution_count": null,
   "metadata": {},
   "outputs": [],
   "source": [
    "np.save('LSTM_1layers_200_l2', LSTM_1layers_200_l2)"
   ]
  },
  {
   "cell_type": "code",
   "execution_count": null,
   "metadata": {},
   "outputs": [],
   "source": [
    "data = LSTM_1layers_200_l2\n",
    "\n",
    "fig_1 = plt.figure(figsize=(10,6))\n",
    "ax_1 = fig_1.add_subplot(111)\n",
    "ax_1.plot(np.arange(data[0].shape[0]), data[0], label = 'train')\n",
    "ax_1.plot(np.arange(data[2].shape[0]), data[2], label = 'valid')\n",
    "ax_1.legend(loc=0)\n",
    "ax_1.set_xlabel('Epoch number',fontsize = 12, fontweight = 1000)\n",
    "ax_1.set_ylabel('Error', fontsize = 12, fontweight = 1000)\n",
    "ax_1.set_title('LSTM_1layers_200_l2(error)', fontsize = 14)\n",
    "plt.tight_layout()\n",
    "fig_1.savefig('LSTM_1layers_200_l2(error).pdf')"
   ]
  },
  {
   "cell_type": "code",
   "execution_count": null,
   "metadata": {},
   "outputs": [],
   "source": [
    "data = LSTM_1layers_200_l2\n",
    "\n",
    "fig_1 = plt.figure(figsize=(10,6))\n",
    "ax_1 = fig_1.add_subplot(111)\n",
    "ax_1.plot(np.arange(data[1].shape[0]), data[1], label = 'train')\n",
    "ax_1.plot(np.arange(data[3].shape[0]), data[3], label = 'valid')\n",
    "ax_1.legend(loc=0)\n",
    "ax_1.set_xlabel('Epoch number',fontsize = 12, fontweight = 1000)\n",
    "ax_1.set_ylabel('ACC', fontsize = 12, fontweight = 1000)\n",
    "ax_1.set_title('LSTM_1layers_200_l2(acc)', fontsize = 14)\n",
    "plt.tight_layout()\n",
    "fig_1.savefig('LSTM_1layers_200_l2(acc).pdf')"
   ]
  },
  {
   "cell_type": "code",
   "execution_count": null,
   "metadata": {},
   "outputs": [],
   "source": []
  }
 ],
 "metadata": {
  "kernelspec": {
   "display_name": "Python 3",
   "language": "python",
   "name": "python3"
  },
  "language_info": {
   "codemirror_mode": {
    "name": "ipython",
    "version": 3
   },
   "file_extension": ".py",
   "mimetype": "text/x-python",
   "name": "python",
   "nbconvert_exporter": "python",
   "pygments_lexer": "ipython3",
   "version": "3.6.4"
  }
 },
 "nbformat": 4,
 "nbformat_minor": 2
}
