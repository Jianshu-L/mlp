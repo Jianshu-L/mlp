{
 "cells": [
  {
   "cell_type": "code",
   "execution_count": 26,
   "metadata": {},
   "outputs": [],
   "source": [
    "class Brain(object):\n",
    "    \n",
    "    def think(self):\n",
    "        return 'thinking...'\n",
    "\n",
    "\n",
    "class Head(Brain):\n",
    "    \n",
    "    def talk(self):\n",
    "        return 'talking...'\n",
    "    \n",
    "    \n",
    "class Human(Head):\n",
    "    def __init__(self):\n",
    "        self.name = 'Guido'"
   ]
  },
  {
   "cell_type": "code",
   "execution_count": 27,
   "metadata": {},
   "outputs": [
    {
     "name": "stdout",
     "output_type": "stream",
     "text": [
      "Guido\n",
      "talking...\n",
      "thinking...\n"
     ]
    }
   ],
   "source": [
    "guido = Human()\n",
    "print (guido.name)\n",
    "print (guido.talk())\n",
    "print (guido.think())"
   ]
  }
 ],
 "metadata": {
  "kernelspec": {
   "display_name": "Python 3",
   "language": "python",
   "name": "python3"
  },
  "language_info": {
   "codemirror_mode": {
    "name": "ipython",
    "version": 3
   },
   "file_extension": ".py",
   "mimetype": "text/x-python",
   "name": "python",
   "nbconvert_exporter": "python",
   "pygments_lexer": "ipython3",
   "version": "3.6.6"
  }
 },
 "nbformat": 4,
 "nbformat_minor": 2
}
