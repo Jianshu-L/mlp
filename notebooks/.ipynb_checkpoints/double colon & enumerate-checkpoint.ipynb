{
 "cells": [
  {
   "cell_type": "code",
   "execution_count": 49,
   "metadata": {},
   "outputs": [
    {
     "name": "stdout",
     "output_type": "stream",
     "text": [
      "[0, 1, 2, 3, 4, 5, 6, 7, 8, 9, 10, 11, 12, 13, 14, 15, 16, 17, 18, 19, 20]\n"
     ]
    }
   ],
   "source": [
    "import numpy as np\n",
    "\n",
    "a = list(range(21))\n",
    "print(a)"
   ]
  },
  {
   "cell_type": "code",
   "execution_count": 52,
   "metadata": {},
   "outputs": [
    {
     "name": "stdout",
     "output_type": "stream",
     "text": [
      "[0, 2, 4, 6, 8, 10, 12, 14, 16, 18, 20]\n",
      "[0, 2, 4, 6, 8, 10, 12, 14, 16, 18, 20]\n",
      "[0, 2, 4, 6, 8, 10, 12, 14, 16, 18, 20]\n",
      "[0, 2, 4, 6, 8, 10, 12, 14, 16, 18, 20]\n"
     ]
    }
   ],
   "source": [
    "# [开始：结束：步长] 步长为负逆向取数 不算“结束”的数\n",
    "print(a[0:21:2])\n",
    "print(a[:21:2])\n",
    "print(a[0::2])\n",
    "print(a[::2])"
   ]
  },
  {
   "cell_type": "code",
   "execution_count": 63,
   "metadata": {},
   "outputs": [
    {
     "name": "stdout",
     "output_type": "stream",
     "text": [
      "[20, 18, 16, 14, 12, 10, 8, 6, 4, 2, 0]\n",
      "[20, 17, 14, 11, 8, 5, 2]\n",
      "[20, 19, 18, 17, 16, 15, 14, 13, 12, 11, 10, 9, 8, 7, 6, 5, 4, 3, 2, 1, 0]\n",
      "[20, 19, 18, 17, 16, 15, 14, 13, 12, 11, 10, 9, 8, 7, 6, 5, 4, 3, 2, 1]\n",
      "[20, 19, 18, 17, 16, 15, 14, 13, 12, 11, 10, 9, 8, 7, 6, 5, 4, 3, 2, 1, 0]\n",
      "[20, 19, 18, 17, 16, 15, 14, 13, 12, 11, 10, 9, 8, 7, 6, 5, 4, 3, 2, 1]\n"
     ]
    }
   ],
   "source": [
    "print(a[::-2])\n",
    "print(a[::-3])\n",
    "\n",
    "print(a[::-1])\n",
    "print(a[:0:-1])\n",
    "print(a[21::-1])\n",
    "print(a[21:0:-1])"
   ]
  },
  {
   "cell_type": "code",
   "execution_count": 66,
   "metadata": {},
   "outputs": [
    {
     "name": "stdout",
     "output_type": "stream",
     "text": [
      "0 20\n",
      "1 19\n",
      "2 18\n",
      "3 17\n",
      "4 16\n",
      "5 15\n",
      "6 14\n",
      "7 13\n",
      "8 12\n",
      "9 11\n",
      "10 10\n",
      "11 9\n",
      "12 8\n",
      "13 7\n",
      "14 6\n",
      "15 5\n",
      "16 4\n",
      "17 3\n",
      "18 2\n",
      "19 1\n",
      "20 0\n"
     ]
    }
   ],
   "source": [
    "for i, layer in enumerate(a[::-1]):\n",
    "    print(i, layer)"
   ]
  },
  {
   "cell_type": "code",
   "execution_count": 107,
   "metadata": {},
   "outputs": [
    {
     "name": "stdout",
     "output_type": "stream",
     "text": [
      "(2, 5)\n",
      "[[0 1 2 3 4]\n",
      " [2 3 4 5 6]]\n",
      "(2, 1)\n",
      "(2,)\n",
      "(2,)\n",
      "(2, 1)\n"
     ]
    }
   ],
   "source": [
    "b = np.array([[0,1,2,3,4], [2,3,4,5,6]])\n",
    "print(b.shape)\n",
    "print(b)\n",
    "# none represents as numpy.newaxis\n",
    "# -1 represents as sum all raws, which is the same as 1\n",
    "print(b.sum(-1)[:,None].shape)\n",
    "print(b.sum(-1).shape)\n",
    "print(b.sum(1).shape)\n",
    "print(b.sum(-1, keepdims = True).shape)"
   ]
  },
  {
   "cell_type": "code",
   "execution_count": null,
   "metadata": {},
   "outputs": [],
   "source": []
  }
 ],
 "metadata": {
  "kernelspec": {
   "display_name": "Python 3",
   "language": "python",
   "name": "python3"
  },
  "language_info": {
   "codemirror_mode": {
    "name": "ipython",
    "version": 3
   },
   "file_extension": ".py",
   "mimetype": "text/x-python",
   "name": "python",
   "nbconvert_exporter": "python",
   "pygments_lexer": "ipython3",
   "version": "3.6.6"
  }
 },
 "nbformat": 4,
 "nbformat_minor": 2
}
